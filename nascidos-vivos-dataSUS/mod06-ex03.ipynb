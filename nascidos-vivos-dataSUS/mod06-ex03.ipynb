{
 "cells": [
  {
   "cell_type": "markdown",
   "metadata": {},
   "source": [
    "# Módulo 6 tarefa 3\n",
    "\n",
    "#### 1) A base 'sinasc_RO_2019.csv' contém dados do sistema de nascidos vivos do DataSUS, cujo dicionário de dados está no arquivo 'Estrutura_SINASC_para_CD.pdf'. Carregue esse arquivo."
   ]
  },
  {
   "cell_type": "code",
   "execution_count": 1,
   "metadata": {},
   "outputs": [],
   "source": [
    "import pandas as pd\n",
    "import matplotlib.pyplot as plt\n",
    "import seaborn as sns\n",
    "%matplotlib inline"
   ]
  },
  {
   "cell_type": "code",
   "execution_count": 2,
   "metadata": {},
   "outputs": [],
   "source": [
    "sinasc = pd.read_csv('sinasc_RO_2019.csv')"
   ]
  },
  {
   "cell_type": "code",
   "execution_count": 3,
   "metadata": {},
   "outputs": [],
   "source": [
    "#para facilitar a visualização, abaixo serão selecionadas apenas as variáveis que serão utilizadas nesta análise\n",
    "sinasc = sinasc[['APGAR5', 'GESTACAO','SEXO','PESO']]"
   ]
  },
  {
   "cell_type": "code",
   "execution_count": 4,
   "metadata": {},
   "outputs": [
    {
     "data": {
      "text/plain": [
       "(27028, 4)"
      ]
     },
     "execution_count": 4,
     "metadata": {},
     "output_type": "execute_result"
    }
   ],
   "source": [
    "sinasc.shape"
   ]
  },
  {
   "cell_type": "code",
   "execution_count": 5,
   "metadata": {},
   "outputs": [
    {
     "data": {
      "text/plain": [
       "APGAR5       103\n",
       "GESTACAO    1232\n",
       "SEXO           4\n",
       "PESO           0\n",
       "dtype: int64"
      ]
     },
     "execution_count": 5,
     "metadata": {},
     "output_type": "execute_result"
    }
   ],
   "source": [
    "sinasc.isna().sum()"
   ]
  },
  {
   "cell_type": "code",
   "execution_count": 6,
   "metadata": {},
   "outputs": [],
   "source": [
    "#os dados faltantes das variáveis APGAR5  e SEXO serão excluídos\n",
    "sinasc = sinasc[~sinasc['APGAR5'].isna()]\n",
    "sinasc = sinasc[~sinasc['SEXO'].isna()]"
   ]
  },
  {
   "cell_type": "code",
   "execution_count": 7,
   "metadata": {},
   "outputs": [
    {
     "data": {
      "text/plain": [
       "9.0     57.894737\n",
       "10.0    32.812500\n",
       "8.0      7.072368\n",
       "6.0      0.575658\n",
       "7.0      0.575658\n",
       "5.0      0.411184\n",
       "2.0      0.164474\n",
       "1.0      0.164474\n",
       "4.0      0.164474\n",
       "0.0      0.082237\n",
       "3.0      0.082237\n",
       "Name: APGAR5, dtype: float64"
      ]
     },
     "execution_count": 7,
     "metadata": {},
     "output_type": "execute_result"
    }
   ],
   "source": [
    "#frequência de APGAR5 nos dados onde a variável GESTACAO está faltando\n",
    "(sinasc[sinasc['GESTACAO'].isna()]['APGAR5'].value_counts()/sinasc[sinasc['GESTACAO'].isna()]['APGAR5'].value_counts().sum())*100"
   ]
  },
  {
   "cell_type": "code",
   "execution_count": 8,
   "metadata": {},
   "outputs": [
    {
     "data": {
      "text/plain": [
       "9.0     59.711749\n",
       "10.0    31.172690\n",
       "8.0      7.406857\n",
       "7.0      0.895212\n",
       "6.0      0.289737\n",
       "5.0      0.167156\n",
       "1.0      0.089150\n",
       "4.0      0.085435\n",
       "0.0      0.063148\n",
       "2.0      0.063148\n",
       "3.0      0.055719\n",
       "Name: APGAR5, dtype: float64"
      ]
     },
     "execution_count": 8,
     "metadata": {},
     "output_type": "execute_result"
    }
   ],
   "source": [
    "#frequência de APGAR5 em todo o dataframe\n",
    "sinasc['APGAR5'].value_counts()*100/sinasc['APGAR5'].value_counts().sum()"
   ]
  },
  {
   "cell_type": "code",
   "execution_count": 9,
   "metadata": {},
   "outputs": [],
   "source": [
    "#como a frequência APGAR5 nas análises acima é próxima, os dados faltantes de GESTACAO podem ser excluídas sem uma grande perda de informação\n",
    "sinasc = sinasc[~sinasc['GESTACAO'].isna()]"
   ]
  },
  {
   "cell_type": "code",
   "execution_count": 10,
   "metadata": {},
   "outputs": [
    {
     "data": {
      "text/plain": [
       "APGAR5      0\n",
       "GESTACAO    0\n",
       "SEXO        0\n",
       "PESO        0\n",
       "dtype: int64"
      ]
     },
     "execution_count": 10,
     "metadata": {},
     "output_type": "execute_result"
    }
   ],
   "source": [
    "sinasc.isna().sum()"
   ]
  },
  {
   "cell_type": "markdown",
   "metadata": {},
   "source": [
    "#### 2) Categorize a variável APGAR5 conforme as seguintes quebras:\n",
    "\n",
    "- 0 a 3: 'asfixia grave'\n",
    "- 4 a 5: 'asfixia moderada'\n",
    "- 6 a 7: 'asfixia leve'\n",
    "- 8 a 10: 'normal'"
   ]
  },
  {
   "cell_type": "code",
   "execution_count": 11,
   "metadata": {},
   "outputs": [],
   "source": [
    "sinasc.loc[sinasc['APGAR5'] >= 8, 'apgar_cat'] = 'normal'\n",
    "sinasc.loc[(sinasc['APGAR5'] == 7) | (sinasc['APGAR5'] == 6), 'apgar_cat'] = 'asfixia leve'\n",
    "sinasc.loc[(sinasc['APGAR5'] == 5) | (sinasc['APGAR5'] == 4), 'apgar_cat'] = 'asfixia moderada'\n",
    "sinasc.loc[sinasc['APGAR5'] <= 3, 'apgar_cat'] = 'asfixia grave'"
   ]
  },
  {
   "cell_type": "code",
   "execution_count": 12,
   "metadata": {},
   "outputs": [
    {
     "data": {
      "text/html": [
       "<div>\n",
       "<style scoped>\n",
       "    .dataframe tbody tr th:only-of-type {\n",
       "        vertical-align: middle;\n",
       "    }\n",
       "\n",
       "    .dataframe tbody tr th {\n",
       "        vertical-align: top;\n",
       "    }\n",
       "\n",
       "    .dataframe thead th {\n",
       "        text-align: right;\n",
       "    }\n",
       "</style>\n",
       "<table border=\"1\" class=\"dataframe\">\n",
       "  <thead>\n",
       "    <tr style=\"text-align: right;\">\n",
       "      <th></th>\n",
       "      <th>APGAR5</th>\n",
       "      <th>GESTACAO</th>\n",
       "      <th>SEXO</th>\n",
       "      <th>PESO</th>\n",
       "      <th>apgar_cat</th>\n",
       "    </tr>\n",
       "  </thead>\n",
       "  <tbody>\n",
       "    <tr>\n",
       "      <th>0</th>\n",
       "      <td>10.0</td>\n",
       "      <td>37 a 41 semanas</td>\n",
       "      <td>Masculino</td>\n",
       "      <td>3685</td>\n",
       "      <td>normal</td>\n",
       "    </tr>\n",
       "    <tr>\n",
       "      <th>1</th>\n",
       "      <td>9.0</td>\n",
       "      <td>37 a 41 semanas</td>\n",
       "      <td>Feminino</td>\n",
       "      <td>3055</td>\n",
       "      <td>normal</td>\n",
       "    </tr>\n",
       "    <tr>\n",
       "      <th>2</th>\n",
       "      <td>10.0</td>\n",
       "      <td>37 a 41 semanas</td>\n",
       "      <td>Feminino</td>\n",
       "      <td>3460</td>\n",
       "      <td>normal</td>\n",
       "    </tr>\n",
       "    <tr>\n",
       "      <th>3</th>\n",
       "      <td>10.0</td>\n",
       "      <td>37 a 41 semanas</td>\n",
       "      <td>Feminino</td>\n",
       "      <td>2982</td>\n",
       "      <td>normal</td>\n",
       "    </tr>\n",
       "    <tr>\n",
       "      <th>4</th>\n",
       "      <td>10.0</td>\n",
       "      <td>37 a 41 semanas</td>\n",
       "      <td>Feminino</td>\n",
       "      <td>3310</td>\n",
       "      <td>normal</td>\n",
       "    </tr>\n",
       "  </tbody>\n",
       "</table>\n",
       "</div>"
      ],
      "text/plain": [
       "   APGAR5         GESTACAO       SEXO  PESO apgar_cat\n",
       "0    10.0  37 a 41 semanas  Masculino  3685    normal\n",
       "1     9.0  37 a 41 semanas   Feminino  3055    normal\n",
       "2    10.0  37 a 41 semanas   Feminino  3460    normal\n",
       "3    10.0  37 a 41 semanas   Feminino  2982    normal\n",
       "4    10.0  37 a 41 semanas   Feminino  3310    normal"
      ]
     },
     "execution_count": 12,
     "metadata": {},
     "output_type": "execute_result"
    }
   ],
   "source": [
    "sinasc.head()"
   ]
  },
  {
   "cell_type": "markdown",
   "metadata": {},
   "source": [
    "#### 3) Monte um gráfico comparando a distribuição de APGAR5 por sexo para cada grupo de tempo de gestação (GESTACAO)."
   ]
  },
  {
   "cell_type": "code",
   "execution_count": 13,
   "metadata": {},
   "outputs": [
    {
     "data": {
      "text/plain": [
       "37 a 41 semanas        22520\n",
       "32 a 36 semanas         2233\n",
       "42 semanas e mais        698\n",
       "28 a 31 semanas          162\n",
       "22 a 27 semanas           85\n",
       "Menos de 22 semanas        7\n",
       "Name: GESTACAO, dtype: int64"
      ]
     },
     "execution_count": 13,
     "metadata": {},
     "output_type": "execute_result"
    }
   ],
   "source": [
    "sinasc['GESTACAO'].value_counts()"
   ]
  },
  {
   "cell_type": "code",
   "execution_count": 14,
   "metadata": {},
   "outputs": [
    {
     "data": {
      "image/png": "[encoded data removed]",
      "text/plain": [
       "<Figure size 1440x720 with 6 Axes>"
      ]
     },
     "metadata": {
      "needs_background": "light"
     },
     "output_type": "display_data"
    }
   ],
   "source": [
    "tempo_gestacao = ['Menos de 22 semanas', '22 a 27 semanas', '28 a 31 semanas', '32 a 36 semanas', '37 a 41 semanas', '42 semanas e mais']\n",
    "\n",
    "plt.close('all')\n",
    "fig, axes = plt.subplots(2, 3, figsize = (20,10))\n",
    "\n",
    "tempo = 0\n",
    "for i in range(2):\n",
    "    for j in range(3):            \n",
    "        f = sns.countplot(ax = axes[i,j], x='APGAR5', hue='SEXO', data=sinasc[sinasc['GESTACAO'] == tempo_gestacao[tempo]])\n",
    "        f.set(title=tempo_gestacao[tempo])\n",
    "        f.legend(labels= ['Masculino', 'Feminino'], loc='upper left')     \n",
    "        tempo +=1      \n",
    "plt.subplots_adjust(hspace=0.3)      "
   ]
  },
  {
   "cell_type": "markdown",
   "metadata": {},
   "source": [
    "####  4) Monte uma tabela cruzada com APGAR5 nas colunas e GESTACAO nas linhas"
   ]
  },
  {
   "cell_type": "code",
   "execution_count": 15,
   "metadata": {},
   "outputs": [
    {
     "data": {
      "text/html": [
       "<div>\n",
       "<style scoped>\n",
       "    .dataframe tbody tr th:only-of-type {\n",
       "        vertical-align: middle;\n",
       "    }\n",
       "\n",
       "    .dataframe tbody tr th {\n",
       "        vertical-align: top;\n",
       "    }\n",
       "\n",
       "    .dataframe thead th {\n",
       "        text-align: right;\n",
       "    }\n",
       "</style>\n",
       "<table border=\"1\" class=\"dataframe\">\n",
       "  <thead>\n",
       "    <tr style=\"text-align: right;\">\n",
       "      <th>apgar_cat</th>\n",
       "      <th>asfixia grave</th>\n",
       "      <th>asfixia moderada</th>\n",
       "      <th>asfixia leve</th>\n",
       "      <th>normal</th>\n",
       "    </tr>\n",
       "    <tr>\n",
       "      <th>GESTACAO</th>\n",
       "      <th></th>\n",
       "      <th></th>\n",
       "      <th></th>\n",
       "      <th></th>\n",
       "    </tr>\n",
       "  </thead>\n",
       "  <tbody>\n",
       "    <tr>\n",
       "      <th>22 a 27 semanas</th>\n",
       "      <td>21</td>\n",
       "      <td>1</td>\n",
       "      <td>12</td>\n",
       "      <td>51</td>\n",
       "    </tr>\n",
       "    <tr>\n",
       "      <th>28 a 31 semanas</th>\n",
       "      <td>3</td>\n",
       "      <td>12</td>\n",
       "      <td>18</td>\n",
       "      <td>129</td>\n",
       "    </tr>\n",
       "    <tr>\n",
       "      <th>32 a 36 semanas</th>\n",
       "      <td>7</td>\n",
       "      <td>19</td>\n",
       "      <td>73</td>\n",
       "      <td>2134</td>\n",
       "    </tr>\n",
       "    <tr>\n",
       "      <th>37 a 41 semanas</th>\n",
       "      <td>33</td>\n",
       "      <td>28</td>\n",
       "      <td>195</td>\n",
       "      <td>22264</td>\n",
       "    </tr>\n",
       "    <tr>\n",
       "      <th>42 semanas e mais</th>\n",
       "      <td>1</td>\n",
       "      <td>1</td>\n",
       "      <td>6</td>\n",
       "      <td>690</td>\n",
       "    </tr>\n",
       "    <tr>\n",
       "      <th>Menos de 22 semanas</th>\n",
       "      <td>2</td>\n",
       "      <td>0</td>\n",
       "      <td>1</td>\n",
       "      <td>4</td>\n",
       "    </tr>\n",
       "  </tbody>\n",
       "</table>\n",
       "</div>"
      ],
      "text/plain": [
       "apgar_cat            asfixia grave  asfixia moderada  asfixia leve  normal\n",
       "GESTACAO                                                                  \n",
       "22 a 27 semanas                 21                 1            12      51\n",
       "28 a 31 semanas                  3                12            18     129\n",
       "32 a 36 semanas                  7                19            73    2134\n",
       "37 a 41 semanas                 33                28           195   22264\n",
       "42 semanas e mais                1                 1             6     690\n",
       "Menos de 22 semanas              2                 0             1       4"
      ]
     },
     "execution_count": 15,
     "metadata": {},
     "output_type": "execute_result"
    }
   ],
   "source": [
    "freq = pd.crosstab(sinasc['GESTACAO'], sinasc['apgar_cat'])\n",
    "freq = freq[['asfixia grave','asfixia moderada','asfixia leve', 'normal']]\n",
    "freq"
   ]
  },
  {
   "cell_type": "markdown",
   "metadata": {},
   "source": [
    "####  5) Da tabela cruzada do intem anterior, calcule os percentuais de linha. Ou seja, a distribuição da variável APGAR5 para cada classe de GESTACAO dado."
   ]
  },
  {
   "cell_type": "code",
   "execution_count": 16,
   "metadata": {},
   "outputs": [
    {
     "data": {
      "text/html": [
       "<div>\n",
       "<style scoped>\n",
       "    .dataframe tbody tr th:only-of-type {\n",
       "        vertical-align: middle;\n",
       "    }\n",
       "\n",
       "    .dataframe tbody tr th {\n",
       "        vertical-align: top;\n",
       "    }\n",
       "\n",
       "    .dataframe thead th {\n",
       "        text-align: right;\n",
       "    }\n",
       "</style>\n",
       "<table border=\"1\" class=\"dataframe\">\n",
       "  <thead>\n",
       "    <tr style=\"text-align: right;\">\n",
       "      <th>apgar_cat</th>\n",
       "      <th>asfixia grave</th>\n",
       "      <th>asfixia moderada</th>\n",
       "      <th>asfixia leve</th>\n",
       "      <th>normal</th>\n",
       "    </tr>\n",
       "    <tr>\n",
       "      <th>GESTACAO</th>\n",
       "      <th></th>\n",
       "      <th></th>\n",
       "      <th></th>\n",
       "      <th></th>\n",
       "    </tr>\n",
       "  </thead>\n",
       "  <tbody>\n",
       "    <tr>\n",
       "      <th>22 a 27 semanas</th>\n",
       "      <td>0.247059</td>\n",
       "      <td>0.011765</td>\n",
       "      <td>0.141176</td>\n",
       "      <td>0.600000</td>\n",
       "    </tr>\n",
       "    <tr>\n",
       "      <th>28 a 31 semanas</th>\n",
       "      <td>0.018519</td>\n",
       "      <td>0.074074</td>\n",
       "      <td>0.111111</td>\n",
       "      <td>0.796296</td>\n",
       "    </tr>\n",
       "    <tr>\n",
       "      <th>32 a 36 semanas</th>\n",
       "      <td>0.003135</td>\n",
       "      <td>0.008509</td>\n",
       "      <td>0.032691</td>\n",
       "      <td>0.955665</td>\n",
       "    </tr>\n",
       "    <tr>\n",
       "      <th>37 a 41 semanas</th>\n",
       "      <td>0.001465</td>\n",
       "      <td>0.001243</td>\n",
       "      <td>0.008659</td>\n",
       "      <td>0.988632</td>\n",
       "    </tr>\n",
       "    <tr>\n",
       "      <th>42 semanas e mais</th>\n",
       "      <td>0.001433</td>\n",
       "      <td>0.001433</td>\n",
       "      <td>0.008596</td>\n",
       "      <td>0.988539</td>\n",
       "    </tr>\n",
       "    <tr>\n",
       "      <th>Menos de 22 semanas</th>\n",
       "      <td>0.285714</td>\n",
       "      <td>0.000000</td>\n",
       "      <td>0.142857</td>\n",
       "      <td>0.571429</td>\n",
       "    </tr>\n",
       "  </tbody>\n",
       "</table>\n",
       "</div>"
      ],
      "text/plain": [
       "apgar_cat            asfixia grave  asfixia moderada  asfixia leve    normal\n",
       "GESTACAO                                                                    \n",
       "22 a 27 semanas           0.247059          0.011765      0.141176  0.600000\n",
       "28 a 31 semanas           0.018519          0.074074      0.111111  0.796296\n",
       "32 a 36 semanas           0.003135          0.008509      0.032691  0.955665\n",
       "37 a 41 semanas           0.001465          0.001243      0.008659  0.988632\n",
       "42 semanas e mais         0.001433          0.001433      0.008596  0.988539\n",
       "Menos de 22 semanas       0.285714          0.000000      0.142857  0.571429"
      ]
     },
     "execution_count": 16,
     "metadata": {},
     "output_type": "execute_result"
    }
   ],
   "source": [
    "percent_linha = freq.div(freq.sum(1),0)\n",
    "percent_linha"
   ]
  },
  {
   "cell_type": "code",
   "execution_count": 17,
   "metadata": {},
   "outputs": [
    {
     "data": {
      "text/plain": [
       "GESTACAO\n",
       "22 a 27 semanas        1.0\n",
       "28 a 31 semanas        1.0\n",
       "32 a 36 semanas        1.0\n",
       "37 a 41 semanas        1.0\n",
       "42 semanas e mais      1.0\n",
       "Menos de 22 semanas    1.0\n",
       "dtype: float64"
      ]
     },
     "execution_count": 17,
     "metadata": {},
     "output_type": "execute_result"
    }
   ],
   "source": [
    "percent_linha.sum(1)"
   ]
  },
  {
   "cell_type": "markdown",
   "metadata": {},
   "source": [
    "####  6) Os médicos costumam classificar parto prematuro quando a gestação tem menos que 37 semanas. Faça um gráfico de barras da tabela cruzada acima e conclua se você acha que este conjunto de dados corrobora ou não com a afirmação dos médicos."
   ]
  },
  {
   "cell_type": "code",
   "execution_count": 18,
   "metadata": {},
   "outputs": [
    {
     "data": {
      "text/plain": [
       "<AxesSubplot:xlabel='GESTACAO'>"
      ]
     },
     "execution_count": 18,
     "metadata": {},
     "output_type": "execute_result"
    },
    {
     "data": {
      "image/png": "[encoded data removed]",
      "text/plain": [
       "<Figure size 432x288 with 1 Axes>"
      ]
     },
     "metadata": {
      "needs_background": "light"
     },
     "output_type": "display_data"
    }
   ],
   "source": [
    "percent_linha.plot.bar()"
   ]
  },
  {
   "cell_type": "markdown",
   "metadata": {},
   "source": [
    "O gráfico de barras mostra que quanto menor o período de gestação, maior a chance do bebê apresentar algum tipo de asfixia ao nascer. \n",
    "\n",
    "Em bebês cujo tempo de gestação foi inferior a 27 semanas, a probabilidade é próxima a 40%, sendo alto o risco de asfixia grave. Já em bebês cujo período de gestação foi de 28 a 31 semanas, a probabilidade de apresentar asfixia ao nascer é aproximadamente 20%, embora seja provável desta acontecer nas formas menos graves.\n",
    "\n",
    "A partir de 32 semanas de gestação, o risco de asfixia nos primeiros 5 minutos de vida do bebê é baixo, no entanto, quando comparado o período de '32 a 36 semanas' com os períodos de '37 a 41 semanas' e '42 semanas e mais', é possível notar que no primeiro há um risco um pouco maior que os outros (cerca de 3%).\n",
    "\n",
    "Desta forma, analisando as classificações de Apgar no quinto minuto de vida, e considerando um viés pessimista, o gráfico corrobora a decisão médica de classificar o parto como prematuro quando a gestação foi inferior a 37 semanas."
   ]
  },
  {
   "cell_type": "markdown",
   "metadata": {},
   "source": [
    "#### 7) Veja se há relação entre APGAR5 e o peso do bebê. Isso pode ser feito de diversas formas. Fique à vontade para escolher a melhor maneira na sua opinião, ou até testar mais de um dos gráficos que vimos. Fique à vontade também para consultar a documentação e utilizar algum outro recurso se achar conveniente."
   ]
  },
  {
   "cell_type": "code",
   "execution_count": 37,
   "metadata": {},
   "outputs": [
    {
     "data": {
      "text/plain": [
       "<AxesSubplot:xlabel='apgar_cat', ylabel='PESO'>"
      ]
     },
     "execution_count": 37,
     "metadata": {},
     "output_type": "execute_result"
    },
    {
     "data": {
      "image/png": "[encoded data removed]",
      "text/plain": [
       "<Figure size 1440x432 with 3 Axes>"
      ]
     },
     "metadata": {
      "needs_background": "light"
     },
     "output_type": "display_data"
    }
   ],
   "source": [
    "plt.close('all')\n",
    "fig, axes = plt.subplots(1, 3, figsize = (20,6))\n",
    "\n",
    "sns.barplot(ax = axes[0], data=sinasc, x = 'apgar_cat', y = 'PESO')\n",
    "sns.boxplot(ax = axes[1], data=sinasc, x = 'apgar_cat', y = 'PESO')\n",
    "sns.stripplot(ax = axes[2], data=sinasc, x = 'apgar_cat', y = 'PESO')"
   ]
  },
  {
   "cell_type": "markdown",
   "metadata": {},
   "source": [
    "Comparando as medianas, bem como as caixas que correspondem a 50% dos dados no boxplot, e comparando o peso médio dos bebês por categoria de apgar 5 através da análise do gráfico de barras, observa-se que um apgar 5 mais baixo pode estar relacionado a pesos menores."
   ]
  },
  {
   "cell_type": "code",
   "execution_count": null,
   "metadata": {},
   "outputs": [],
   "source": []
  }
 ],
 "metadata": {
  "kernelspec": {
   "display_name": "Python 3",
   "language": "python",
   "name": "python3"
  },
  "language_info": {
   "codemirror_mode": {
    "name": "ipython",
    "version": 3
   },
   "file_extension": ".py",
   "mimetype": "text/x-python",
   "name": "python",
   "nbconvert_exporter": "python",
   "pygments_lexer": "ipython3",
   "version": "3.8.8"
  }
 },
 "nbformat": 4,
 "nbformat_minor": 4
}
